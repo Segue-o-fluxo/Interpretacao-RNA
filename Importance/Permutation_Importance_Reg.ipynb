{
 "cells": [
  {
   "cell_type": "markdown",
   "metadata": {},
   "source": [
    "# Permutação de Colunas"
   ]
  },
  {
   "cell_type": "code",
   "execution_count": 1,
   "metadata": {},
   "outputs": [],
   "source": [
    "import numpy as np\n",
    "import pandas as pd\n",
    "import seaborn as sns\n",
    "import matplotlib.pyplot as plt\n",
    "from tqdm import tqdm\n",
    "\n",
    "#### Tem de ler muito a descrição do sklearn #####\n",
    "from sklearn.linear_model import *\n",
    "from sklearn.datasets import fetch_openml, fetch_california_housing\n",
    "from keras.models import Sequential\n",
    "from keras.layers import Dense, LSTM, TimeDistributed\n",
    "from keras.optimizers import RMSprop\n",
    "from keras.wrappers.scikit_learn import KerasRegressor\n",
    "from keras import optimizers\n",
    "from sklearn.preprocessing import StandardScaler\n",
    "\n",
    "from sklearn.model_selection import cross_val_score\n",
    "from sklearn.model_selection import KFold\n",
    "from sklearn.pipeline import Pipeline\n",
    "from sklearn.model_selection import train_test_split\n",
    "from sklearn.preprocessing import MinMaxScaler\n",
    "\n"
   ]
  },
  {
   "cell_type": "markdown",
   "metadata": {},
   "source": [
    "## Funções para permutação"
   ]
  },
  {
   "cell_type": "code",
   "execution_count": 2,
   "metadata": {},
   "outputs": [],
   "source": [
    "### UTILITY FUNCTION FOR FEATURES PERMUTATION IMPORTANCE ###\n",
    "\n",
    "## Precisa entrar com o modelo ajustado\n",
    "## Matriz de X, variáveis explicativas\n",
    "### Matriz de y variável resposta(preços das casas)\n",
    "\n",
    "### Função de perdatem de entrar também\n",
    "### é a função de banchmarket\n",
    "### Número de repetições\n",
    "### Você pode usar nome da coluna e um seed para marcar o aleatório\n",
    "\n",
    "\n",
    "def permut_features_importance(\n",
    "    model, X, y, \n",
    "    loss_fun, n_repeats=10,\n",
    "    seed=None, columns_name=None\n",
    "):\n",
    "    \n",
    "    X = np.asarray(X)\n",
    "    assert X.ndim == 2\n",
    "    \n",
    "    y = np.asarray(y)\n",
    "    assert y.ndim < 2\n",
    "    \n",
    "    if seed is not None:\n",
    "        np.random.seed(seed)\n",
    "    \n",
    "    if columns_name is not None:\n",
    "        assert len(columns_name) == X.shape[-1]\n",
    "    else:\n",
    "        columns_name = np.arange(X.shape[-1])\n",
    "        \n",
    "    error = loss_fun(model, X, y)\n",
    "    features_imp = {}\n",
    "    std_features_imp = {}     \n",
    "        \n",
    "    for col in tqdm(range(X.shape[-1])):\n",
    "        \n",
    "        _importance = []\n",
    "        for _ in range(n_repeats):\n",
    "            \n",
    "            _X = np.copy(X)\n",
    "            _X[:,col] = np.random.permutation(_X[:,col])\n",
    "            _importance.append(loss_fun(model, _X, y) - error)\n",
    "                \n",
    "        features_imp[columns_name[col]] = np.mean(_importance)\n",
    "        std_features_imp[columns_name[col]] = np.std(_importance)\n",
    "                \n",
    "    return features_imp, std_features_imp\n",
    "### Vai retornar as importâncias relativas das variáveis\n",
    "### e desvio padrão da importância média em n-repetições da permutação"
   ]
  },
  {
   "cell_type": "markdown",
   "metadata": {},
   "source": [
    "## Função de perda utilizando o MSE"
   ]
  },
  {
   "cell_type": "markdown",
   "metadata": {},
   "source": [
    "Aqui a gente vai brincar de calcular o MSE e também a diferença entre \n",
    "o modelo base e o novo modelo \n"
   ]
  },
  {
   "cell_type": "code",
   "execution_count": 3,
   "metadata": {},
   "outputs": [],
   "source": [
    "\n",
    "def mse(model, X, true, normalize=True): \n",
    "    \n",
    "    if normalize:\n",
    "        return np.mean(np.square(true - model.predict(X)))\n",
    "    else:\n",
    "        return np.square(true - model.predict(X)) \n",
    "\n",
    "\n",
    "def crossentropy(model, X, true, normalize=True):\n",
    "    \n",
    "    def _entropy(true, pred): return -(true * np.log(pred))\n",
    "    \n",
    "    true = np.asarray(true)\n",
    "    classes = np.unique(true)\n",
    "    pred_proba = model.predict_proba(X)\n",
    "    pred_proba = pred_proba.clip(1e-5, 1 - 1e-5)\n",
    "    \n",
    "    c_entropy = np.zeros_like(true, dtype='float64')\n",
    "    for c,cls in enumerate(classes):\n",
    "        true_cls = (true == cls).astype(int)\n",
    "        c_entropy += _entropy(true_cls, pred_proba[:,c])\n",
    "    \n",
    "    if normalize:\n",
    "        return c_entropy.mean()\n",
    "    else:\n",
    "        return c_entropy"
   ]
  },
  {
   "cell_type": "markdown",
   "metadata": {},
   "source": [
    "## Lendo o Banco de dados e ajustando o modelo base"
   ]
  },
  {
   "cell_type": "code",
   "execution_count": 4,
   "metadata": {},
   "outputs": [],
   "source": [
    "np.random.seed(123)\n",
    "\n",
    "import warnings\n",
    "\n",
    "import pandas as pd\n",
    "from pandas.core.common import SettingWithCopyWarning\n",
    "\n",
    "warnings.simplefilter(action=\"ignore\", category=SettingWithCopyWarning)\n",
    "\n",
    "\n",
    "X, y = fetch_california_housing(return_X_y=True, as_frame=True)\n",
    "scaler = StandardScaler()\n",
    "X_train, X_test, y_train, y_test = train_test_split(X,y,test_size=0.1)\n",
    "X_train[['MedInc','HouseAge','AveRooms','AveBedrms','Population','AveOccup','Latitude','Longitude']] =  scaler.fit_transform(X_train[['MedInc','HouseAge','AveRooms','AveBedrms','Population','AveOccup','Latitude','Longitude']])\n",
    "X_test[['MedInc','HouseAge','AveRooms','AveBedrms','Population','AveOccup','Latitude','Longitude']] =  scaler.fit_transform(X_test[['MedInc','HouseAge','AveRooms','AveBedrms','Population','AveOccup','Latitude','Longitude']])\n",
    "import warnings\n"
   ]
  },
  {
   "cell_type": "markdown",
   "metadata": {},
   "source": [
    "### Problema de regressão de para prever o valor de casas a partir de variáveis numéricas"
   ]
  },
  {
   "cell_type": "code",
   "execution_count": 5,
   "metadata": {},
   "outputs": [],
   "source": [
    "def base_model():\n",
    "    model = Sequential()\n",
    "    model.add(Dense(5, input_dim=8, activation='relu'))\n",
    "    model.add(Dense(3, activation='relu'))\n",
    "    model.add(Dense(2 ,activation='relu'))\n",
    "    model.add(Dense(1, activation ='linear'))\n",
    "    model.compile(loss='mean_squared_error', optimizer= optimizers.Adam(lr=0.001))\n",
    "    return model"
   ]
  },
  {
   "cell_type": "code",
   "execution_count": 6,
   "metadata": {},
   "outputs": [
    {
     "data": {
      "text/plain": [
       "0.3524903746601174"
      ]
     },
     "execution_count": 6,
     "metadata": {},
     "output_type": "execute_result"
    }
   ],
   "source": [
    "np.random.seed(123)\n",
    "model = KerasRegressor(build_fn=base_model, batch_size=50, epochs=150, verbose = 0)\n",
    "\n",
    "model.fit(X_train,y_train)\n",
    "\n",
    "mse(model, X_test, y_test)"
   ]
  },
  {
   "cell_type": "markdown",
   "metadata": {},
   "source": [
    "## Ajustando o modelo"
   ]
  },
  {
   "cell_type": "code",
   "execution_count": 7,
   "metadata": {},
   "outputs": [
    {
     "name": "stderr",
     "output_type": "stream",
     "text": [
      "100%|████████████████████████████████████████████████████████████████████████████████████| 8/8 [00:08<00:00,  1.09s/it]\n"
     ]
    }
   ],
   "source": [
    "feat_imp_diz = permut_features_importance(model, X_test, y_test, loss_fun=mse, n_repeats=20, \n",
    "                                          columns_name=X.columns)\n",
    "\n",
    "\n",
    "feat_imp_mean, feat_imp_std = feat_imp_diz\n",
    "\n",
    "feat_imp_mean = pd.Series(feat_imp_mean)\n",
    "feat_imp_std = pd.Series(feat_imp_std)\n",
    "\n",
    "order = feat_imp_mean.sort_values(ascending=False).index\n",
    "feat_imp_mean = feat_imp_mean[order]\n",
    "feat_imp_std = feat_imp_std[order]"
   ]
  },
  {
   "cell_type": "markdown",
   "metadata": {},
   "source": [
    "### Gráfico de Importância das Variáveis"
   ]
  },
  {
   "cell_type": "code",
   "execution_count": 8,
   "metadata": {},
   "outputs": [
    {
     "data": {
      "text/plain": [
       "Text(0, 0.5, 'importance')"
      ]
     },
     "execution_count": 8,
     "metadata": {},
     "output_type": "execute_result"
    },
    {
     "data": {
      "image/png": "[encoded data removed]",
      "text/plain": [
       "<Figure size 800x600 with 1 Axes>"
      ]
     },
     "metadata": {
      "needs_background": "light"
     },
     "output_type": "display_data"
    }
   ],
   "source": [
    "plt.figure(figsize=(8,6), dpi=100)\n",
    "plot = feat_imp_mean.plot.bar(yerr=feat_imp_std)\n",
    "plt.ylabel('importance')"
   ]
  },
  {
   "cell_type": "code",
   "execution_count": 9,
   "metadata": {},
   "outputs": [],
   "source": [
    "def model_retira():\n",
    "    model = Sequential()\n",
    "    model.add(Dense(5, input_dim=7, activation='relu'))\n",
    "    model.add(Dense(3, activation='relu'))\n",
    "    model.add(Dense(2 ,activation='relu'))\n",
    "    model.add(Dense(1, activation ='linear'))\n",
    "    model.compile(loss='mean_squared_error', optimizer= optimizers.Adam(lr=0.001))\n",
    "    return model\n",
    "\n",
    "retira = KerasRegressor(build_fn=model_retira, batch_size=50, epochs=150, verbose = 0)\n"
   ]
  },
  {
   "cell_type": "code",
   "execution_count": 10,
   "metadata": {
    "scrolled": false
   },
   "outputs": [
    {
     "name": "stderr",
     "output_type": "stream",
     "text": [
      "100%|████████████████████████████████████████████████████████████████████████████████████| 8/8 [02:30<00:00, 18.82s/it]\n"
     ]
    },
    {
     "data": {
      "text/plain": [
       "{'MedInc': 0.4649853079141418,\n",
       " 'HouseAge': 0.38261645964332835,\n",
       " 'AveRooms': 0.35039033997295865,\n",
       " 'AveBedrms': 0.3420763538812314,\n",
       " 'Population': 0.3454722708630149,\n",
       " 'AveOccup': 0.42159051805363273,\n",
       " 'Latitude': 0.46142280755060083,\n",
       " 'Longitude': 0.45608112754409186}"
      ]
     },
     "execution_count": 10,
     "metadata": {},
     "output_type": "execute_result"
    }
   ],
   "source": [
    "\n",
    "def Retira_coluna (X_train,y_train,X_test,y_test):\n",
    "    erro = {}\n",
    "    colunas = X_train.columns\n",
    "    n_colunas = len(colunas)\n",
    "    for i in tqdm(range(n_colunas)):\n",
    "        X_novo_train = X_train\n",
    "        X_novo_train = X_train.drop(columns=[colunas[i]])\n",
    "        X_novo_test= X_test.drop(columns=[colunas[i]])\n",
    "        retira.fit(X_novo_train,y_train)\n",
    "        error = mse(retira, X_novo_test, y_test)\n",
    "        erro[colunas[i]] = error\n",
    "    return erro\n",
    "\n",
    "Retira_coluna(X_train,y_train,X_test,y_test)\n",
    "\n",
    "\n",
    "## Altera na primiera e nas ultimas duas, justamente os que apontam na permutation importance"
   ]
  },
  {
   "cell_type": "markdown",
   "metadata": {},
   "source": [
    "## Rodando sem as variáveis \"Não importantes \""
   ]
  },
  {
   "cell_type": "code",
   "execution_count": 17,
   "metadata": {},
   "outputs": [],
   "source": [
    " def model_final():\n",
    "    model = Sequential()\n",
    "    model.add(Dense(5, input_dim=4, activation='relu'))\n",
    "    model.add(Dense(3, activation='relu'))\n",
    "    model.add(Dense(2 ,activation='relu'))\n",
    "    model.add(Dense(1, activation ='linear'))\n",
    "    model.compile(loss='mean_squared_error', optimizer= optimizers.Adam(lr=0.001))\n",
    "    return model\n",
    "\n",
    "modelo_importante = KerasRegressor(build_fn=model_final, batch_size=50, epochs=150, verbose = 0)\n"
   ]
  },
  {
   "cell_type": "code",
   "execution_count": 18,
   "metadata": {},
   "outputs": [],
   "source": [
    "X_train_final = X_train.drop(columns=['AveRooms', 'Population',  'AveBedrms','HouseAge'])\n",
    "X_test_final = X_test.drop(columns = ['AveRooms', 'Population',  'AveBedrms','HouseAge'])\n"
   ]
  },
  {
   "cell_type": "code",
   "execution_count": 19,
   "metadata": {},
   "outputs": [
    {
     "data": {
      "text/plain": [
       "0.3604284208203182"
      ]
     },
     "execution_count": 19,
     "metadata": {},
     "output_type": "execute_result"
    }
   ],
   "source": [
    "modelo_importante.fit(X_train_final,y_train)\n",
    "mse(modelo_importante, X_test_final, y_test)"
   ]
  }
 ],
 "metadata": {
  "kernelspec": {
   "display_name": "Python 3",
   "language": "python",
   "name": "python3"
  },
  "language_info": {
   "codemirror_mode": {
    "name": "ipython",
    "version": 3
   },
   "file_extension": ".py",
   "mimetype": "text/x-python",
   "name": "python",
   "nbconvert_exporter": "python",
   "pygments_lexer": "ipython3",
   "version": "3.7.9"
  }
 },
 "nbformat": 4,
 "nbformat_minor": 4
}
